{
 "cells": [
  {
   "cell_type": "code",
   "execution_count": 3,
   "metadata": {},
   "outputs": [],
   "source": [
    "from usefull_graphics import *\n",
    "import numpy as np"
   ]
  },
  {
   "cell_type": "code",
   "execution_count": 4,
   "metadata": {},
   "outputs": [],
   "source": [
    "# Set the size of the figure\n",
    "figsize = (16, 8)\n",
    "\n",
    "# Remove the axes from the subplots\n",
    "show_axes = False\n",
    "\n",
    "# Add a color bar to the subplots\n",
    "show_colorbar = True\n",
    "\n",
    "# Set the width ratio of each subplot\n",
    "subplot_widths = [4, 4, 4, 4]\n",
    "\n",
    "# Set the font size for all text elements\n",
    "font_size = 10\n",
    "\n",
    "titles = ['test']\n",
    "\n",
    "norm = [0, 3]"
   ]
  },
  {
   "cell_type": "code",
   "execution_count": 5,
   "metadata": {},
   "outputs": [
    {
     "ename": "TypeError",
     "evalue": "plot_3d_in_row() got an unexpected keyword argument 'titles'",
     "output_type": "error",
     "traceback": [
      "\u001b[1;31m---------------------------------------------------------------------------\u001b[0m",
      "\u001b[1;31mTypeError\u001b[0m                                 Traceback (most recent call last)",
      "Cell \u001b[1;32mIn[5], line 5\u001b[0m\n\u001b[0;32m      2\u001b[0m figures \u001b[39m=\u001b[39m []\n\u001b[0;32m      3\u001b[0m figures\u001b[39m.\u001b[39mappend(arr)\n\u001b[1;32m----> 5\u001b[0m fig1 \u001b[39m=\u001b[39m plot_3d_in_row(figures, titles\u001b[39m=\u001b[39;49mtitles, figsize\u001b[39m=\u001b[39;49mfigsize, show_colorbar\u001b[39m=\u001b[39;49mshow_colorbar, font_size\u001b[39m=\u001b[39;49mfont_size, normalize\u001b[39m=\u001b[39;49mnorm, cmap\u001b[39m=\u001b[39;49m\u001b[39m'\u001b[39;49m\u001b[39mplasma\u001b[39;49m\u001b[39m'\u001b[39;49m)\n\u001b[0;32m      6\u001b[0m fig1\u001b[39m.\u001b[39msavefig(\u001b[39m'\u001b[39m\u001b[39m1.png\u001b[39m\u001b[39m'\u001b[39m, dpi\u001b[39m=\u001b[39m\u001b[39m300\u001b[39m)\n\u001b[0;32m      8\u001b[0m fig2 \u001b[39m=\u001b[39m plot_3d_in_row(figures, titles\u001b[39m=\u001b[39mtitles, figsize\u001b[39m=\u001b[39mfigsize, show_colorbar\u001b[39m=\u001b[39mshow_colorbar, font_size\u001b[39m=\u001b[39mfont_size, normalize\u001b[39m=\u001b[39mnorm, cmap\u001b[39m=\u001b[39m\u001b[39m'\u001b[39m\u001b[39mplasma\u001b[39m\u001b[39m'\u001b[39m, exclude\u001b[39m=\u001b[39m\u001b[39m0.4\u001b[39m)\n",
      "\u001b[1;31mTypeError\u001b[0m: plot_3d_in_row() got an unexpected keyword argument 'titles'"
     ]
    }
   ],
   "source": [
    "arr = 3 * np.random.rand(50, 50, 50)\n",
    "figures = []\n",
    "figures.append(arr)\n",
    "\n",
    "fig1 = plot_3d_in_row(figures, titles=titles, figsize=figsize, show_colorbar=show_colorbar, font_size=font_size, normalize=norm, cmap='plasma')\n",
    "fig1.savefig('1.png', dpi=300)\n",
    "\n",
    "fig2 = plot_3d_in_row(figures, titles=titles, figsize=figsize, show_colorbar=show_colorbar, font_size=font_size, normalize=norm, cmap='plasma', exclude=0.4)\n",
    "fig2.savefig('2.png', dpi=300)\n",
    "\n",
    "fig3 = plot_3d_in_row(figures, titles=titles, figsize=figsize, show_colorbar=show_colorbar, font_size=font_size, normalize=norm, cmap='plasma', exclude=1.5, edgecolor='k')\n",
    "fig3.savefig('3.png', dpi=300)"
   ]
  },
  {
   "cell_type": "code",
   "execution_count": null,
   "metadata": {},
   "outputs": [],
   "source": [
    "import numpy as np\n",
    "from vispy import app, scene\n",
    "\n",
    "def plot3d(array):\n",
    "    canvas = scene.SceneCanvas(keys='interactive', bgcolor='white')\n",
    "    view = canvas.central_widget.add_view()\n",
    "    view.camera = 'turntable'\n",
    "\n",
    "    scatter = scene.visuals.Markers()\n",
    "    scatter.set_data(array, edge_color=None, face_color=(1, 0, 0, 1), size=5)\n",
    "\n",
    "    view.add(scatter)\n",
    "\n",
    "    canvas.show()\n",
    "    app.run()"
   ]
  },
  {
   "cell_type": "code",
   "execution_count": null,
   "metadata": {},
   "outputs": [
    {
     "data": {
      "application/vnd.jupyter.widget-view+json": {
       "model_id": "d8070df434ec438090204a5b6765356f",
       "version_major": 2,
       "version_minor": 0
      },
      "text/plain": [
       "RFBOutputContext()"
      ]
     },
     "metadata": {},
     "output_type": "display_data"
    }
   ],
   "source": [
    "# Generate some random data\n",
    "data = np.random.normal(size=(10000, 3))\n",
    "\n",
    "# Plot the data\n",
    "plot3d(data)"
   ]
  }
 ],
 "metadata": {
  "kernelspec": {
   "display_name": "Python 3",
   "language": "python",
   "name": "python3"
  },
  "language_info": {
   "codemirror_mode": {
    "name": "ipython",
    "version": 3
   },
   "file_extension": ".py",
   "mimetype": "text/x-python",
   "name": "python",
   "nbconvert_exporter": "python",
   "pygments_lexer": "ipython3",
   "version": "3.11.2"
  },
  "orig_nbformat": 4
 },
 "nbformat": 4,
 "nbformat_minor": 2
}
