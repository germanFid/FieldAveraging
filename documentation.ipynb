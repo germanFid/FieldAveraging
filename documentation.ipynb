{
 "cells": [
  {
   "attachments": {},
   "cell_type": "markdown",
   "metadata": {},
   "source": [
    "# Документация\n",
    "\n",
    "### Что это за файл\n",
    "В этом файле показана документация с примерами использования всего, что предлагает проект. Решение содержит два модуля: `averager` и `structures`\n",
    "\n",
    "---\n",
    "\n",
    "### Модуль `averager`\n",
    "Предлагает разные методы осреднения полей физических величин\n",
    "\n",
    "### Модуль `structures`\n",
    "Предлагает структуры для удобного хранения полей, ввода/вывода файлов и не только!"
   ]
  },
  {
   "cell_type": "code",
   "execution_count": 1,
   "metadata": {},
   "outputs": [],
   "source": [
    "from structures import *\n",
    "from averager import *"
   ]
  },
  {
   "attachments": {},
   "cell_type": "markdown",
   "metadata": {},
   "source": [
    "# Основные процедуры"
   ]
  },
  {
   "attachments": {},
   "cell_type": "markdown",
   "metadata": {},
   "source": [
    "## Считывание csv\n",
    "\n",
    "Модуль заточен под работу с csv-файлами, так как это достаточно универсальный формат представления данных. Многие программы включают в себя фунционал по импорту/экспорту csv-файлов _(например, MS Excel, Tecplot 360)_.\n",
    "\n",
    "В следующем примере показано считывание такого типа файлов:"
   ]
  },
  {
   "cell_type": "code",
   "execution_count": null,
   "metadata": {},
   "outputs": [],
   "source": [
    "with open(\"myfile.csv\") as file:\n",
    "    data = StreamData(file.read(), 501, 981)\n",
    "\n",
    "print(data.dataset)"
   ]
  },
  {
   "attachments": {},
   "cell_type": "markdown",
   "metadata": {},
   "source": [
    "Обратим внимание на класс StreamData. Он предназначается для хранения данных в произвольном виде"
   ]
  }
 ],
 "metadata": {
  "kernelspec": {
   "display_name": "Python 3",
   "language": "python",
   "name": "python3"
  },
  "language_info": {
   "codemirror_mode": {
    "name": "ipython",
    "version": 3
   },
   "file_extension": ".py",
   "mimetype": "text/x-python",
   "name": "python",
   "nbconvert_exporter": "python",
   "pygments_lexer": "ipython3",
   "version": "3.11.1"
  },
  "orig_nbformat": 4
 },
 "nbformat": 4,
 "nbformat_minor": 2
}
