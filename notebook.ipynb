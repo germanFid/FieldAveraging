{
 "cells": [
  {
   "attachments": {},
   "cell_type": "markdown",
   "metadata": {},
   "source": [
    "# Structures -> StreamData\n",
    "Для хранения датасета был написан класс `StreamData`, содержащий в себе `i:int`, `j:int` и `dataset:pd.DataFrame`\n",
    "Dataframe из библиотеки Pandas - удобное средство для хранения данных."
   ]
  },
  {
   "cell_type": "code",
   "execution_count": 1,
   "metadata": {},
   "outputs": [],
   "source": [
    "import structures\n",
    "from structures import StreamData \n",
    "# Можно брать класс StreamData напрямую, чтобы\n",
    "# каждый раз не писать structures.StreamData"
   ]
  },
  {
   "attachments": {},
   "cell_type": "markdown",
   "metadata": {},
   "source": [
    "Попробуем протестировать наш класс. Для этого вначале конвертируем сырые `.plt` - данные в StreamData, используя `structures.parse_plt`"
   ]
  },
  {
   "cell_type": "code",
   "execution_count": 2,
   "metadata": {},
   "outputs": [
    {
     "name": "stdout",
     "output_type": "stream",
     "text": [
      "20 7\n",
      "        x         y      Vx/U      Vy/U    k/U**2      Vm/U   x-m       y-m  \\\n",
      "0    0.10  0.008724 -0.005882 -0.030244  0.014873  0.030811 -0.14  0.001745   \n",
      "1    0.10  0.051499 -0.129412  0.180595  0.048256  0.222176 -0.14  0.010300   \n",
      "2    0.10  0.137447  0.594118  0.283301  0.230549  0.658206 -0.14  0.027489   \n",
      "3    0.10  0.160039  0.673529 -0.031545  0.018038  0.674268 -0.14  0.032008   \n",
      "4    0.10  0.209299  0.744118  0.127514  0.179967  0.754964 -0.14  0.041860   \n",
      "..    ...       ...       ...       ...       ...       ...   ...       ...   \n",
      "135  0.85  0.876580 -0.102941  0.438935  0.082962  0.450845 -0.44  0.175316   \n",
      "136  0.85  0.913436 -0.085294  0.306966  0.077203  0.318595 -0.44  0.182687   \n",
      "137  0.85  0.939252 -0.041176  0.238150  0.050853  0.241683 -0.44  0.187850   \n",
      "138  0.85  0.967831 -0.014706  0.123373  0.048871  0.124247 -0.44  0.193566   \n",
      "139  0.85  0.993689  0.020588 -0.002913  0.000000  0.020793 -0.44  0.198738   \n",
      "\n",
      "           Vx        Vy         k        Vm  \n",
      "0    0.035294  0.181466  0.535420  0.184866  \n",
      "1    0.776471 -1.083573  1.737220  1.333055  \n",
      "2   -3.564706 -1.699808  8.299751  3.949237  \n",
      "3   -4.041176  0.189272  0.649379  4.045606  \n",
      "4   -4.464706 -0.765086  6.478817  4.529785  \n",
      "..        ...       ...       ...       ...  \n",
      "135  0.617647 -2.633613  2.986646  2.705070  \n",
      "136  0.511765 -1.841794  2.779309  1.911572  \n",
      "137  0.247059 -1.428898  1.830703  1.450099  \n",
      "138  0.088235 -0.740239  1.759359  0.745479  \n",
      "139 -0.123529  0.017480  0.000000  0.124760  \n",
      "\n",
      "[140 rows x 12 columns]\n"
     ]
    }
   ],
   "source": [
    "data = structures.parse_plt(\"2D_example_experiment.plt\") # Файл 2D_ex...plt заранее закинуть в одну папку со скриптом\n",
    "print(data.i, data. j)\n",
    "print(data.dataset)"
   ]
  },
  {
   "attachments": {},
   "cell_type": "markdown",
   "metadata": {},
   "source": [
    "Пока мы осредняем величину `Vx/U`, воспользуемся функцией `advance_to_vxu()`, преобразующей данные в необходимый нам двухмерный массив"
   ]
  },
  {
   "cell_type": "code",
   "execution_count": 3,
   "metadata": {},
   "outputs": [
    {
     "name": "stdout",
     "output_type": "stream",
     "text": [
      "[[-0.005882353, -0.12941177, 0.59411764, 0.6735294, 0.7441176, 0.4, 0.1],\n",
      " [-0.023529412, -0.05882353, -0.18235295, -0.23529412, -0.24411765, -0.2529412, -0.2529412],\n",
      " [-0.21764706, -0.1382353, -0.120588236, -0.08529412, -0.05882353, -0.005882353, 0.00877193],\n",
      " [0.47368422, 0.7105263, 0.6052632, 0.49122807, 0.39473686, 0.2982456, 0.2982456],\n",
      " [0.0, -0.10526316, -0.23684211, -0.22807017, 0.04385965, 0.02631579, 0.01754386],\n",
      " [0.01754386, 0.00877193, -0.01754386, -0.00877193, 0.0, 0.047058824, 0.44411764],\n",
      " [0.5852941, 0.5147059, 0.4882353, 0.44411764, 0.41764706, 0.35588235, 0.064705886],\n",
      " [-0.1382353, -0.23529412, -0.2, -0.20882353, -0.2, -0.16470589, -0.10294118],\n",
      " [-0.06764706, -0.032352943, 0.011764706, 0.011764706, 0.052556746, 0.28025517, 0.41984534],\n",
      " [0.42842308, 0.4367677, 0.46271068, 0.44465393, 0.37385657, 0.09227538, -0.040189996],\n",
      " [-0.17234458, -0.19046348, -0.28723493, -0.18246847, -0.2443618, -0.25330472, -0.1571393],\n",
      " [0.009310674, 0.01782625, 0.008828953, 0.050220124, 0.18297955, 0.34198114, 0.35065252],\n",
      " [0.35021228, 0.3587107, 0.3404481, 0.29544026, 0.1791588, 0.06288522, -0.07083333],\n",
      " [-0.18680032, -0.24034591, -0.28522012, -0.34783804, -0.37464622, -0.36610064, -0.30419025],\n",
      " [-0.2334434, -0.002900943, 0.05357143, 0.17857143, 0.25892857, 0.2857143, 0.30357143],\n",
      " [0.30357143, 0.32142857, 0.2767857, 0.23214285, 0.10714286, -0.008928572, -0.09821428],\n",
      " [-0.125, -0.14285715, -0.125, -0.116071425, -0.10714286, -0.10714286, -0.08035714],\n",
      " [0.008928572, 0.020588236, 0.17058824, 0.34705883, 0.38235295, 0.40882352, 0.42647058],\n",
      " [0.40882352, 0.3735294, 0.30294117, 0.16176471, 0.073529415, -0.10294118, -0.2],\n",
      " [-0.19117647, -0.16470589, -0.10294118, -0.08529412, -0.04117647, -0.014705882, 0.020588236]]\n"
     ]
    }
   ],
   "source": [
    "from pprint import pprint\n",
    "\n",
    "array = structures.advance_to_vxu(data)\n",
    "pprint(array, compact=True, width=100)"
   ]
  },
  {
   "attachments": {},
   "cell_type": "markdown",
   "metadata": {},
   "source": [
    "К этим данным (`array`) уже можно применять методы осреднения:"
   ]
  },
  {
   "cell_type": "code",
   "execution_count": 4,
   "metadata": {},
   "outputs": [
    {
     "name": "stdout",
     "output_type": "stream",
     "text": [
      "[[0.0, 0.0, 0.0, 0.0, 0.0, 0.0, 0.0], [0.0, 0.0, 0.0, 0.0, 0.0, 0.0, 0.0], [0.0, 0.0, 0.0, 0.0, 0.0, 0.0, 0.0], [0.0, 0.0, 0.0, 0.0, 0.0, 0.0, 0.0], [0.0, 0.0, 0.0, 0.0, 0.0, 0.0, 0.0], [0.0, 0.0, 0.0, 0.0, 0.0, 0.0, 0.0], [0.0, 0.0, 0.0, 0.0, 0.0, 0.0, 0.0], [0.0, 0.0, 0.0, 0.0, 0.0, 0.0, 0.0], [0.0, 0.0, 0.0, 0.0, 0.0, 0.0, 0.0], [0.0, 0.0, 0.0, 0.0, 0.0, 0.0, 0.0], [0.0, 0.0, 0.0, 0.0, 0.0, 0.0, 0.0], [0.0, 0.0, 0.0, 0.0, 0.0, 0.0, 0.0], [0.0, 0.0, 0.0, 0.0, 0.0, 0.0, 0.0], [0.0, 0.0, 0.0, 0.0, 0.0, 0.0, 0.0], [0.0, 0.0, 0.0, 0.0, 0.0, 0.0, 0.0], [0.0, 0.0, 0.0, 0.0, 0.0, 0.0, 0.0], [0.0, 0.0, 0.0, 0.0, 0.0, 0.0, 0.0], [0.0, 0.0, 0.0, 0.0, 0.0, 0.0, 0.0], [0.0, 0.0, 0.0, 0.0, 0.0, 0.0, 0.0], [0.0, 0.0, 0.0, 0.0, 0.0, 0.0, 0.0]]\n",
      "[[-0.05441176625000001, 0.03235293749999999, 0.11029411166666665, 0.22499998666666665,\n",
      "  0.18088233833333334, 0.08235292500000002, -0.0014705999999999816],\n",
      " [-0.0955882375, -0.03137255233333334, 0.03529411266666666, 0.12058822599999999,\n",
      "  0.10392155855555556, 0.04868706633333334, -0.0004988038333333221],\n",
      " [0.12432920300000001, 0.11647747022222221, 0.1096032571111111, 0.062750836, 0.033539728555555565,\n",
      "  0.020588228555555563, 0.015583062833333342],\n",
      " [0.12051083333333334, 0.10787753933333333, 0.09919160822222223, 0.08949662377777778,\n",
      "  0.09736842188888889, 0.11366815633333333, 0.10720673783333333],\n",
      " [0.184210525, 0.16179337555555556, 0.13547758555555556, 0.11598441222222222, 0.11828918822222224,\n",
      "  0.17445820266666667, 0.18858788566666665],\n",
      " [0.17017543833333335, 0.1394335511111111, 0.09548217111111112, 0.10029239777777778,\n",
      "  0.1220043571111111, 0.15745900666666668, 0.15927072500000003],\n",
      " [0.12546439499999998, 0.11371975666666666, 0.08726637, 0.07942896444444446, 0.07582272488888889,\n",
      "  0.09575163222222222, 0.10735293833333336],\n",
      " [0.10441176283333335, 0.1029411758888889, 0.08823529544444444, 0.09080695866666669,\n",
      "  0.10985491688888888, 0.12480505355555555, 0.1421736126666667],\n",
      " [0.06527689283333334, 0.07401519366666667, 0.07679901433333332, 0.08316486755555556,\n",
      "  0.07575923133333333, 0.07899468222222224, 0.08075647066666666],\n",
      " [0.06706378616666668, 0.0655136858888889, 0.07501576655555556, 0.07147134866666667,\n",
      "  0.06391416800000001, 0.058199265555555574, 0.056956979],\n",
      " [0.08825327399999999, 0.07931381633333331, 0.08453786188888888, 0.08990940077777779, 0.089536856,\n",
      "  0.07186103822222223, 0.05571250400000002],\n",
      " [0.06220864066666667, 0.048365996333333335, 0.04570083411111111, 0.03811228744444444,\n",
      "  0.048058900444444455, 0.043557564444444447, 0.04570692166666668],\n",
      " [0.051485612333333326, 0.041441178555555555, 0.02200781299999998, 0.005485711888888893,\n",
      "  0.002675577111111117, 0.0002096433333333487, 0.002399110000000019],\n",
      " [0.007572067833333332, 0.017136868555555552, 0.038937434111111106, 0.03315713444444444,\n",
      "  0.019123742222222226, -0.0028346799999999905, -0.014825544999999996],\n",
      " [-0.006415095499999995, 0.0007384930000000005, 0.02068832966666667, 0.011048717777777784,\n",
      "  -0.003890384666666663, -0.021858089111111104, -0.031358001999999996],\n",
      " [0.0201330845, 0.03623951522222223, 0.07507449577777778, 0.084325395, 0.08035714366666667,\n",
      "  0.06150793866666667, 0.049107146333333324],\n",
      " [0.06444327633333333, 0.07878151088888889, 0.10940709455555557, 0.129761905, 0.12647058811111112,\n",
      "  0.102556022, 0.09010854133333333],\n",
      " [0.090668763, 0.099171332, 0.11028244566666666, 0.1211134477777778, 0.10447012222222221,\n",
      "  0.077065825, 0.05747548666666666],\n",
      " [0.07599789466666668, 0.09184173311111112, 0.11372548844444445, 0.13431372722222223, 0.125490197,\n",
      "  0.10588235211111112, 0.089705879],\n",
      " [0.10661764000000001, 0.10441175833333334, 0.08088234833333334, 0.0514705875,\n",
      "  -0.0014705878333333324, -0.044117646833333336, -0.07426470650000001]]\n"
     ]
    }
   ],
   "source": [
    "from averager import line_2_row_averaging_this\n",
    "from averager import diagonally_averaging_this\n",
    "\n",
    "av1 = line_2_row_averaging_this(array.copy(), 1)\n",
    "pprint(av1, compact=True, width=100) # <-- Выглядит, как будто осреднилось"
   ]
  },
  {
   "cell_type": "code",
   "execution_count": 5,
   "metadata": {},
   "outputs": [
    {
     "name": "stdout",
     "output_type": "stream",
     "text": [
      "[[-0.05441176625000001, 0.03235293749999999, 0.11029411166666665, 0.22499998666666665,\n",
      "  0.18088233833333334, 0.08235292500000002, -0.0014705999999999816],\n",
      " [-0.0955882375, -0.03137255233333334, 0.03529411266666666, 0.12058822599999999,\n",
      "  0.10392155855555556, 0.04868706633333334, 0.11371975666666666],\n",
      " [0.12432920300000001, 0.11647747022222221, 0.1096032571111111, 0.062750836, 0.033539728555555565,\n",
      "  0.09548217111111112, 0.08726637],\n",
      " [0.12051083333333334, 0.10787753933333333, 0.09919160822222223, 0.08949662377777778,\n",
      "  0.11598441222222222, 0.10029239777777778, 0.07942896444444446],\n",
      " [0.184210525, 0.16179337555555556, 0.13547758555555556, 0.09736842188888889, 0.11828918822222224,\n",
      "  0.1220043571111111, 0.07582272488888889],\n",
      " [0.17017543833333335, 0.1394335511111111, 0.020588228555555563, 0.11366815633333333,\n",
      "  0.17445820266666667, 0.15745900666666668, 0.09575163222222222],\n",
      " [0.12546439499999998, -0.0004988038333333221, 0.015583062833333342, 0.10720673783333333,\n",
      "  0.18858788566666665, 0.15927072500000003, 0.10735293833333336],\n",
      " [-0.07647059999999999, -0.04805642333333332, 0.018025443333333346, 0.10818713, 0.25330236666666667,\n",
      "  0.17545579533333333, 0.13529411533333335],\n",
      " [0.0, 0.0, 0.0, 0.0, 0.0, 0.0, 0.0], [-0.0, -0.0, -0.0, -0.0, -0.0, -0.0, -0.0],\n",
      " [-0.0, -0.0, -0.0, -0.0, -0.0, -0.0, -0.0], [-0.0, -0.0, -0.0, -0.0, -0.0, -0.0, -0.0],\n",
      " [-0.0, -0.0, -0.0, -0.0, -0.0, -0.0, -0.0], [-0.0, -0.0, -0.0, -0.0, -0.0, -0.0, -0.0],\n",
      " [-0.0, -0.0, -0.0, -0.0, -0.0, -0.0, -0.0], [-0.0, -0.0, -0.0, -0.0, -0.0, -0.0, -0.0],\n",
      " [-0.0, -0.0, -0.0, -0.0, -0.0, -0.0, -0.0], [-0.0, -0.0, -0.0, -0.0, -0.0, -0.0, -0.0],\n",
      " [-0.0, -0.0, -0.0, -0.0, -0.0, -0.0, -0.0], [-0.0, -0.0, -0.0, -0.0, -0.0, -0.0, -0.0]]\n"
     ]
    }
   ],
   "source": [
    "av2 = diagonally_averaging_this(array.copy(), 1) # <-- Ошибка\n",
    "pprint(av2, compact=True, width=100)"
   ]
  },
  {
   "attachments": {},
   "cell_type": "markdown",
   "metadata": {},
   "source": [
    "Наконец, можем узреть результаты работы первого метода!"
   ]
  },
  {
   "cell_type": "code",
   "execution_count": 6,
   "metadata": {},
   "outputs": [
    {
     "data": {
      "image/png": "[encoded data removed]",
      "text/plain": [
       "<Figure size 432x288 with 1 Axes>"
      ]
     },
     "metadata": {
      "needs_background": "light"
     },
     "output_type": "display_data"
    },
    {
     "data": {
      "image/png": "[encoded data removed]",
      "text/plain": [
       "<Figure size 432x288 with 1 Axes>"
      ]
     },
     "metadata": {
      "needs_background": "light"
     },
     "output_type": "display_data"
    },
    {
     "data": {
      "image/png": "[encoded data removed]",
      "text/plain": [
       "<Figure size 432x288 with 1 Axes>"
      ]
     },
     "metadata": {
      "needs_background": "light"
     },
     "output_type": "display_data"
    }
   ],
   "source": [
    "import matplotlib.pyplot as plt\n",
    "import numpy as np\n",
    "\n",
    "def heatmap(data, title: str):\n",
    "    arr = np.random.random(( 12 , 12 )) # np.array(data)\n",
    "    # plt.imshow(arr, cmap='autumn', interpolation='nearest')\n",
    "    plt.imshow(arr)\n",
    "    plt.title(title)\n",
    "\n",
    "    plt.show()\n",
    "\n",
    "heatmap(array, \"Original Array\")\n",
    "heatmap(av1, \"Av1\")\n",
    "heatmap(av2, \"Av2\")"
   ]
  }
 ],
 "metadata": {
  "kernelspec": {
   "display_name": "Python 3",
   "language": "python",
   "name": "python3"
  },
  "language_info": {
   "codemirror_mode": {
    "name": "ipython",
    "version": 3
   },
   "file_extension": ".py",
   "mimetype": "text/x-python",
   "name": "python",
   "nbconvert_exporter": "python",
   "pygments_lexer": "ipython3",
   "version": "3.9.7"
  },
  "orig_nbformat": 4
 },
 "nbformat": 4,
 "nbformat_minor": 2
}
