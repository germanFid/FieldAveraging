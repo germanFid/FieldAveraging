{
 "cells": [
  {
   "attachments": {},
   "cell_type": "markdown",
   "metadata": {},
   "source": [
    "# Structures -> StreamData\n",
    "Для хранения датасета был написан класс `StreamData`, содержащий в себе `i:int`, `j:int` и `dataset:pd.DataFrame`\n",
    "Dataframe из библиотеки Pandas - удобное средство для хранения данных."
   ]
  },
  {
   "cell_type": "code",
   "execution_count": null,
   "metadata": {},
   "outputs": [],
   "source": [
    "import structures\n",
    "from structures import StreamData \n",
    "# Можно брать класс StreamData напрямую, чтобы\n",
    "# каждый раз не писать structures.StreamData"
   ]
  },
  {
   "attachments": {},
   "cell_type": "markdown",
   "metadata": {},
   "source": [
    "Попробуем протестировать наш класс. Для этого вначале конвертируем сырые `.plt` - данные в StreamData, используя `structures.parse_plt`"
   ]
  },
  {
   "cell_type": "code",
   "execution_count": null,
   "metadata": {},
   "outputs": [],
   "source": [
    "data = structures.parse_plt(\"2D_example_experiment.plt\") # Файл 2D_ex...plt заранее закинуть в одну папку со скриптом\n",
    "print(data.i, data. j)\n",
    "print(data.dataset)"
   ]
  },
  {
   "attachments": {},
   "cell_type": "markdown",
   "metadata": {},
   "source": [
    "Пока мы осредняем величину `Vx/U`, воспользуемся функцией `advance_to_vxu()`, преобразующей данные в необходимый нам двухмерный массив"
   ]
  },
  {
   "cell_type": "code",
   "execution_count": null,
   "metadata": {},
   "outputs": [],
   "source": [
    "from pprint import pprint\n",
    "\n",
    "array = structures.advance_to_vxu(data)\n",
    "pprint(array, compact=True, width=100)"
   ]
  },
  {
   "attachments": {},
   "cell_type": "markdown",
   "metadata": {},
   "source": [
    "К этим данным (`array`) уже можно применять методы осреднения:"
   ]
  },
  {
   "cell_type": "code",
   "execution_count": null,
   "metadata": {},
   "outputs": [],
   "source": [
    "from averager import line_2_row_averaging_this\n",
    "from averager import diagonally_averaging_this\n",
    "\n",
    "av1 = line_2_row_averaging_this(array.copy(), 1)\n",
    "pprint(av1, compact=True, width=100) # <-- Выглядит, как будто осреднилось"
   ]
  },
  {
   "cell_type": "code",
   "execution_count": null,
   "metadata": {},
   "outputs": [],
   "source": [
    "av2 = diagonally_averaging_this(array.copy(), 1) # <-- Ошибка\n",
    "pprint(av2, compact=True, width=100)"
   ]
  },
  {
   "attachments": {},
   "cell_type": "markdown",
   "metadata": {},
   "source": [
    "Наконец, можем узреть результаты работы первого метода!"
   ]
  },
  {
   "cell_type": "code",
   "execution_count": null,
   "metadata": {},
   "outputs": [],
   "source": [
    "import matplotlib.pyplot as plt\n",
    "import numpy as np\n",
    "\n",
    "def heatmap(data, title: str):\n",
    "    arr = np.random.random(( 12 , 12 )) # np.array(data)\n",
    "    # plt.imshow(arr, cmap='autumn', interpolation='nearest')\n",
    "    plt.imshow(arr)\n",
    "    plt.title(title)\n",
    "    plt.colorbar()\n",
    "\n",
    "    plt.show()\n",
    "\n",
    "heatmap(array, \"Original Array\")\n",
    "heatmap(av1, \"Av1\")\n",
    "heatmap(av2, \"Av2\")"
   ]
  }
 ],
 "metadata": {
  "kernelspec": {
   "display_name": "Python 3",
   "language": "python",
   "name": "python3"
  },
  "language_info": {
   "codemirror_mode": {
    "name": "ipython",
    "version": 3
   },
   "file_extension": ".py",
   "mimetype": "text/x-python",
   "name": "python",
   "nbconvert_exporter": "python",
   "pygments_lexer": "ipython3",
   "version": "3.9.7"
  },
  "orig_nbformat": 4
 },
 "nbformat": 4,
 "nbformat_minor": 2
}
