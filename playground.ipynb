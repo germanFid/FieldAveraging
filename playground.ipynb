{
 "cells": [
  {
   "cell_type": "code",
   "execution_count": null,
   "metadata": {},
   "outputs": [],
   "source": [
    "import numpy as np\n",
    "import pandas as pd\n",
    "\n",
    "from structures import *\n",
    "from averager import *\n",
    "from usefull_graphics import *\n",
    "\n",
    "import matplotlib.pyplot as plt\n",
    "\n",
    "from tqdm import tqdm"
   ]
  },
  {
   "attachments": {},
   "cell_type": "markdown",
   "metadata": {},
   "source": [
    "# Ввод-вывод файла\n",
    "\n",
    "В данном примере считывание производится из .csv-файла."
   ]
  },
  {
   "cell_type": "code",
   "execution_count": null,
   "metadata": {},
   "outputs": [],
   "source": [
    "with open(\"myfile.csv\") as file:\n",
    "    data = StreamData(file.read(), 501, 981)\n",
    "\n",
    "print(data.dataset)"
   ]
  },
  {
   "attachments": {},
   "cell_type": "markdown",
   "metadata": {},
   "source": [
    "# Осреднение\n",
    "\n",
    "Создаем три временных списка, получая и преобразуя соотвествующие столбцы датасета"
   ]
  },
  {
   "cell_type": "code",
   "execution_count": null,
   "metadata": {},
   "outputs": [],
   "source": [
    "tmplistX = advance_to_column(data, \"X Velocity\")\n",
    "tmplistY = advance_to_column(data, \"Y Velocity\")\n",
    "tmplistZ = advance_to_column(data, \"Z Velocity\")"
   ]
  },
  {
   "attachments": {},
   "cell_type": "markdown",
   "metadata": {},
   "source": [
    "Функция возвращающая модуль трех введенных полей:"
   ]
  },
  {
   "cell_type": "code",
   "execution_count": null,
   "metadata": {},
   "outputs": [],
   "source": []
  },
  {
   "attachments": {},
   "cell_type": "markdown",
   "metadata": {},
   "source": [
    "set parameters to graphics"
   ]
  },
  {
   "cell_type": "code",
   "execution_count": null,
   "metadata": {},
   "outputs": [],
   "source": [
    "# Set the size of the figure\n",
    "figsize = (24, 8)\n",
    "\n",
    "# Remove the axes from the subplots\n",
    "show_axes = False\n",
    "\n",
    "# Add a color bar to the subplots\n",
    "show_colorbar = True\n",
    "\n",
    "# Set the width ratio of each subplot\n",
    "subplot_widths = [4, 4, 4, 4]\n",
    "\n",
    "# Set the font size for all text elements\n",
    "font_size = 10\n",
    "\n",
    "# Set normalization\n",
    "normalize = [-1.5, 1.5]\n",
    "\n",
    "# Define radius of averaging\n",
    "av_radius = 2\n",
    "\n",
    "# Define max_processes\n",
    "m_processes = 16"
   ]
  },
  {
   "attachments": {},
   "cell_type": "markdown",
   "metadata": {},
   "source": [
    "Делаем 100 итераций осреднения на `tmplistX` с радиусом 2"
   ]
  },
  {
   "cell_type": "code",
   "execution_count": null,
   "metadata": {},
   "outputs": [],
   "source": [
    "\n",
    "all_coord_mod = calculate_module_of_arrays((tmplistX, tmplistY, tmplistZ))\n",
    "\n",
    "# tmplistX = np.array(tmplistX)\n",
    "# tmplistY = np.array(tmplistY)\n",
    "# tmplistZ = np.array(tmplistZ)\n",
    "\n",
    "# av1 = tmplistX\n",
    "# av2 = tmplistY\n",
    "# av3 = tmplistZ\n",
    "\n",
    "graphicsX = []\n",
    "graphicsY = []\n",
    "graphicsZ = []\n",
    "graphicsM = []\n",
    "graphicsX.append(tmplistX)\n",
    "graphicsY.append(tmplistY)\n",
    "graphicsZ.append(tmplistZ)\n",
    "graphicsM.append(all_coord_mod)\n",
    "\n",
    "av1 = basic_2d_array_averaging_parallel(np.asarray(tmplistX, dtype=np.float32), av_radius, max_processes=m_processes)\n",
    "av2 = basic_2d_array_averaging_parallel(np.asarray(tmplistY, dtype=np.float32), av_radius, max_processes=m_processes)\n",
    "av3 = basic_2d_array_averaging_parallel(np.asarray(tmplistZ, dtype=np.float32), av_radius, max_processes=m_processes)\n",
    "\n",
    "number_of_iters = 10\n",
    "with tqdm(total=number_of_iters) as pbar:   \n",
    "    for i in range(number_of_iters):\n",
    "        av1 = basic_2d_array_averaging_parallel(av1, av_radius, max_processes=m_processes)\n",
    "        pbar.update(1)\n",
    "with tqdm(total=number_of_iters) as pbar:   \n",
    "    for i in range(number_of_iters):\n",
    "        av2 = basic_2d_array_averaging_parallel(av2, av_radius, max_processes=m_processes)\n",
    "        pbar.update(1)\n",
    "with tqdm(total=number_of_iters) as pbar:   \n",
    "    for i in range(number_of_iters):\n",
    "        av3 = basic_2d_array_averaging_parallel(av3, av_radius, max_processes=m_processes)\n",
    "        pbar.update(1)\n",
    "all_coord_mod = calculate_module_of_arrays((av1, av2, av3))\n",
    "\n",
    "graphicsX.append(av1)\n",
    "graphicsY.append(av2)\n",
    "graphicsZ.append(av3)\n",
    "graphicsM.append(all_coord_mod)\n",
    "\n",
    "number_of_iters = 20\n",
    "with tqdm(total = number_of_iters) as pbar:   \n",
    "    for i in range(number_of_iters):\n",
    "        av1 = basic_2d_array_averaging_parallel(av1, av_radius, max_processes=m_processes)\n",
    "        pbar.update(1)\n",
    "with tqdm(total = number_of_iters) as pbar:   \n",
    "    for i in range(number_of_iters):\n",
    "        av2 = basic_2d_array_averaging_parallel(av2, av_radius, max_processes=m_processes)\n",
    "        pbar.update(1)\n",
    "with tqdm(total = number_of_iters) as pbar:   \n",
    "    for i in range(number_of_iters):\n",
    "        av3 = basic_2d_array_averaging_parallel(av3, av_radius, max_processes=m_processes)\n",
    "        pbar.update(1)\n",
    "all_coord_mod = calculate_module_of_arrays((av1, av2, av3))\n",
    "\n",
    "graphicsX.append(av1)\n",
    "graphicsY.append(av2)\n",
    "graphicsZ.append(av3)\n",
    "graphicsM.append(all_coord_mod)\n",
    "\n",
    "with tqdm(total = number_of_iters) as pbar:   \n",
    "    for i in range(number_of_iters):\n",
    "        av1 = basic_2d_array_averaging_parallel(av1, av_radius, max_processes=m_processes)\n",
    "        pbar.update(1)\n",
    "with tqdm(total = number_of_iters) as pbar:   \n",
    "    for i in range(number_of_iters):\n",
    "        av2 = basic_2d_array_averaging_parallel(av2, av_radius, max_processes=m_processes)\n",
    "        pbar.update(1)\n",
    "with tqdm(total = number_of_iters) as pbar:   \n",
    "    for i in range(number_of_iters):\n",
    "        av3 = basic_2d_array_averaging_parallel(av3, av_radius, max_processes=m_processes)\n",
    "        pbar.update(1)\n",
    "all_coord_mod = calculate_module_of_arrays((av1, av2, av3))\n",
    "\n",
    "graphicsX.append(av1)\n",
    "graphicsY.append(av2)\n",
    "graphicsZ.append(av3)\n",
    "graphicsM.append(all_coord_mod)"
   ]
  },
  {
   "cell_type": "code",
   "execution_count": null,
   "metadata": {},
   "outputs": [],
   "source": [
    "titles = [\"original\", \"iter = 10\", \"iter = 30\", \"iter = 50\"]\n",
    "\n",
    "figsize = (24, 8)\n",
    "\n",
    "fig1 = plot_2d_in_row(graphicsX, titles=titles, figsize=figsize, show_colorbar=show_colorbar, font_size=font_size, normalize=normalize)\n",
    "fig1.savefig('Vx field on different iterations.png', dpi=300, transparent=True)\n",
    "\n",
    "fig2 = plot_2d_in_row(graphicsY, titles=titles, figsize=figsize, show_colorbar=show_colorbar, font_size=font_size, normalize=normalize)\n",
    "fig2.savefig('Vy field on different iterations.png', dpi=300, transparent=True)\n",
    "\n",
    "fig3 = plot_2d_in_row(graphicsZ, titles=titles, figsize=figsize, show_colorbar=show_colorbar, font_size=font_size, normalize=normalize)\n",
    "fig3.savefig('Vz field on different iterations.png', dpi=300, transparent=True)\n",
    "\n",
    "fig4 = plot_2d_in_row(graphicsM, titles=titles, figsize=figsize, show_colorbar=show_colorbar, font_size=font_size, normalize=normalize)\n",
    "fig4.savefig('V modyle field on different iterations.png', dpi=300, transparent=True)"
   ]
  },
  {
   "attachments": {},
   "cell_type": "markdown",
   "metadata": {},
   "source": [
    "Опять запускаем осреднение, только в этот раз сохраняем значения на каждой итерации."
   ]
  },
  {
   "cell_type": "code",
   "execution_count": null,
   "metadata": {},
   "outputs": [],
   "source": [
    "av_radius = 2\n",
    "\n",
    "all_coord_mod = calculate_module_of_arrays((tmplistX, tmplistY, tmplistZ))\n",
    "\n",
    "figure1 = []\n",
    "figure2 = []\n",
    "figure3 = []\n",
    "figure4 = []\n",
    "figure1.append(tmplistX)\n",
    "figure2.append(tmplistY)\n",
    "figure3.append(tmplistZ)\n",
    "figure4.append(all_coord_mod)\n",
    "\n",
    "\n",
    "av1 = basic_2d_array_averaging_parallel(np.asarray(tmplistX, dtype=np.float32), av_radius, max_processes=m_processes, visuals=True)\n",
    "av2 = basic_2d_array_averaging_parallel(np.asarray(tmplistY, dtype=np.float32), av_radius, max_processes=m_processes, visuals=True)\n",
    "av3 = basic_2d_array_averaging_parallel(np.asarray(tmplistZ, dtype=np.float32), av_radius, max_processes=m_processes, visuals=True)\n",
    "all_coord_mod = calculate_module_of_arrays((av1, av2, av3))\n",
    "\n",
    "figure1.append(av1)\n",
    "figure2.append(av2)\n",
    "figure3.append(av3)\n",
    "figure4.append(all_coord_mod)\n",
    "\n",
    "number_of_iters = 40\n",
    "with tqdm(total = number_of_iters) as pbar:  \n",
    "    for i in range(number_of_iters):\n",
    "        av1 = basic_2d_array_averaging_parallel(av1, av_radius, max_processes=m_processes)\n",
    "        av2 = basic_2d_array_averaging_parallel(av2, av_radius, max_processes=m_processes)\n",
    "        av3 = basic_2d_array_averaging_parallel(av3, av_radius, max_processes=m_processes)\n",
    "        all_coord_mod = calculate_module_of_arrays((av1, av2, av3))\n",
    "        figure1.append(av1)\n",
    "        figure2.append(av2)\n",
    "        figure3.append(av3)\n",
    "        figure4.append(all_coord_mod)\n",
    "        pbar.update(1)\n"
   ]
  },
  {
   "cell_type": "code",
   "execution_count": null,
   "metadata": {},
   "outputs": [],
   "source": [
    "# Set normalization\n",
    "normalize = [-1.5, 1.5]\n",
    "\n",
    "# Set duration\n",
    "frame_dur = 80\n",
    "\n",
    "create_gif(figure1, 'figure1.gif', name='Vx averaging', duration=frame_dur, vmin = normalize[0], vmax = normalize[1])\n",
    "create_gif(figure2, 'figure2.gif', name='Vy averaging', duration=frame_dur, vmin = normalize[0], vmax = normalize[1])\n",
    "create_gif(figure3, 'figure3.gif', name='Vz averaging', duration=frame_dur, vmin = normalize[0], vmax = normalize[1])\n",
    "create_gif(figure4, 'figure4.gif', name=\"module V's averaging\", duration=frame_dur, vmin = normalize[0], vmax = normalize[1])"
   ]
  },
  {
   "attachments": {},
   "cell_type": "markdown",
   "metadata": {},
   "source": [
    "Получилось как-то так"
   ]
  },
  {
   "attachments": {},
   "cell_type": "markdown",
   "metadata": {},
   "source": [
    "Исследуем возможности метода Гаусса:"
   ]
  },
  {
   "cell_type": "code",
   "execution_count": null,
   "metadata": {},
   "outputs": [],
   "source": [
    "all_coord_mod = calculate_module_of_arrays((tmplistX, tmplistY, tmplistZ))\n",
    "av_radius = 100\n",
    "\n",
    "n_graphicsX = []\n",
    "n_graphicsY = []\n",
    "n_graphicsZ = []\n",
    "n_graphicsM = []\n",
    "n_graphicsX.append(tmplistX)\n",
    "n_graphicsY.append(tmplistY)\n",
    "n_graphicsZ.append(tmplistZ)\n",
    "n_graphicsM.append(all_coord_mod)\n",
    "n_graphicsX.append(graphicsX[len(graphicsX)-1])\n",
    "n_graphicsY.append(graphicsY[len(graphicsY)-1])\n",
    "n_graphicsZ.append(graphicsZ[len(graphicsZ)-1])\n",
    "n_graphicsM.append(graphicsM[len(graphicsM)-1])\n",
    "\n",
    "av1 = gauss_2d(np.asarray(tmplistX, dtype=np.float32), av_radius)\n",
    "av2 = gauss_2d(np.asarray(tmplistY, dtype=np.float32), av_radius)\n",
    "av3 = gauss_2d(np.asarray(tmplistZ, dtype=np.float32), av_radius)\n",
    "\n",
    "all_coord_mod = calculate_module_of_arrays((av1, av2, av3))\n",
    "\n",
    "n_graphicsX.append(av1)\n",
    "n_graphicsY.append(av2)\n",
    "n_graphicsZ.append(av3)\n",
    "n_graphicsM.append(all_coord_mod)"
   ]
  },
  {
   "cell_type": "code",
   "execution_count": null,
   "metadata": {},
   "outputs": [],
   "source": [
    "figsize = (18, 8)\n",
    "font_size = 12\n",
    "\n",
    "titles = [\"original\", \"iter = 50\", \"gauss, sigma = 100\"]\n",
    "fig1 = plot_2d_in_row(n_graphicsX, titles=titles, figsize=figsize, show_colorbar=show_colorbar, font_size=font_size, normalize=normalize)\n",
    "fig1.savefig('GaussVsBasicX.png', dpi=300, transparent=True)\n",
    "\n",
    "fig2 = plot_2d_in_row(n_graphicsY, titles=titles, figsize=figsize, show_colorbar=show_colorbar, font_size=font_size, normalize=normalize)\n",
    "fig2.savefig('GaussVsBasicY.png', dpi=300, transparent=True)\n",
    "\n",
    "fig3 = plot_2d_in_row(n_graphicsZ, titles=titles, figsize=figsize, show_colorbar=show_colorbar, font_size=font_size, normalize=normalize)\n",
    "fig3.savefig('GaussVsBasicZ.png', dpi=300, transparent=True)\n",
    "\n",
    "fig4 = plot_2d_in_row(n_graphicsM, titles=titles, figsize=figsize, show_colorbar=show_colorbar, font_size=font_size, normalize=normalize)\n",
    "fig4.savefig('GaussVsBasicM.png', dpi=300, transparent=True)"
   ]
  }
 ],
 "metadata": {
  "kernelspec": {
   "display_name": "Python 3",
   "language": "python",
   "name": "python3"
  },
  "language_info": {
   "codemirror_mode": {
    "name": "ipython",
    "version": 3
   },
   "file_extension": ".py",
   "mimetype": "text/x-python",
   "name": "python",
   "nbconvert_exporter": "python",
   "pygments_lexer": "ipython3",
   "version": "3.11.2"
  },
  "orig_nbformat": 4,
  "vscode": {
   "interpreter": {
    "hash": "ebfc0a8d552866b0d59eba665220a57de3bc06f3ac643b8bef38dd8f66781fdd"
   }
  }
 },
 "nbformat": 4,
 "nbformat_minor": 2
}
