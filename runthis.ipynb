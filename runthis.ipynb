{
 "cells": [
  {
   "cell_type": "code",
   "execution_count": null,
   "metadata": {},
   "outputs": [],
   "source": [
    "from averager import *\n",
    "from structures import *"
   ]
  },
  {
   "cell_type": "code",
   "execution_count": null,
   "metadata": {},
   "outputs": [],
   "source": [
    "with open(\"myfile_3d.csv\") as file:\n",
    "    data = StreamData(file.read(), 501, 981, 81)\n",
    "\n",
    "print(data.dataset)"
   ]
  },
  {
   "cell_type": "code",
   "execution_count": null,
   "metadata": {},
   "outputs": [],
   "source": [
    "tmplistX = advance_to_column(data, \"X Velocity\")\n",
    "tmplistY = advance_to_column(data, \"Y Velocity\")\n",
    "tmplistZ = advance_to_column(data, \"Z Velocity\")"
   ]
  },
  {
   "cell_type": "code",
   "execution_count": null,
   "metadata": {},
   "outputs": [],
   "source": [
    "resultX = basic_3d_averaging_parralel(np.asarray(tmplistX), 10, visuals=True)\n",
    "resultY = basic_3d_averaging_parralel(np.asarray(tmplistY), 10, visuals=True)\n",
    "resultZ = basic_3d_averaging_parralel(np.asarray(tmplistZ), 10, visuals=True)"
   ]
  },
  {
   "attachments": {},
   "cell_type": "markdown",
   "metadata": {},
   "source": [
    "# 50 ITERS"
   ]
  },
  {
   "cell_type": "code",
   "execution_count": null,
   "metadata": {},
   "outputs": [],
   "source": [
    "print(\"Averaging X (50) :\")\n",
    "for i in tqdm(range(49)):\n",
    "    resultX = basic_3d_averaging_parralel(np.asarray(resultX), 10)\n",
    "\n",
    "print(\"\\nAveraging Y (50) :\")\n",
    "for i in tqdm(range(49)):\n",
    "    resultY = basic_3d_averaging_parralel(np.asarray(resultY), 10)\n",
    "\n",
    "print(\"\\nAveraging Z (50) :\")\n",
    "for i in tqdm(range(49)):\n",
    "    resultZ = basic_3d_averaging_parralel(np.asarray(resultZ), 10)"
   ]
  },
  {
   "cell_type": "code",
   "execution_count": null,
   "metadata": {},
   "outputs": [],
   "source": [
    "update_dataset_column(data, 'X Velocity', resultX)\n",
    "update_dataset_column(data, 'Y Velocity', resultY)\n",
    "update_dataset_column(data, 'Z Velocity', resultZ)\n",
    "\n",
    "save_temp_streamdata(data, \"iter_50\")"
   ]
  },
  {
   "attachments": {},
   "cell_type": "markdown",
   "metadata": {},
   "source": [
    "# 100 ITERS"
   ]
  },
  {
   "cell_type": "code",
   "execution_count": null,
   "metadata": {},
   "outputs": [],
   "source": [
    "print(\"Averaging X (100) :\")\n",
    "for i in tqdm(range(50)):\n",
    "    resultX = basic_3d_averaging_parralel(np.asarray(resultX), 10)\n",
    "\n",
    "print(\"\\nAveraging Y (100) :\")\n",
    "for i in tqdm(range(50)):\n",
    "    resultY = basic_3d_averaging_parralel(np.asarray(resultY), 10)\n",
    "\n",
    "print(\"\\nAveraging Z (100) :\")\n",
    "for i in tqdm(range(50)):\n",
    "    resultZ = basic_3d_averaging_parralel(np.asarray(resultZ), 10)"
   ]
  },
  {
   "cell_type": "code",
   "execution_count": null,
   "metadata": {},
   "outputs": [],
   "source": [
    "update_dataset_column(data, 'X Velocity', resultX)\n",
    "update_dataset_column(data, 'Y Velocity', resultY)\n",
    "update_dataset_column(data, 'Z Velocity', resultZ)\n",
    "\n",
    "save_temp_streamdata(data, \"iter_100\")"
   ]
  },
  {
   "attachments": {},
   "cell_type": "markdown",
   "metadata": {},
   "source": [
    "# 200 ITERS"
   ]
  },
  {
   "cell_type": "code",
   "execution_count": null,
   "metadata": {},
   "outputs": [],
   "source": [
    "print(\"Averaging X (200) :\")\n",
    "for i in tqdm(range(100)):\n",
    "    resultX = basic_3d_averaging_parralel(np.asarray(resultX), 10)\n",
    "\n",
    "print(\"\\nAveraging Y (200) :\")\n",
    "for i in tqdm(range(100)):\n",
    "    resultY = basic_3d_averaging_parralel(np.asarray(resultY), 10)\n",
    "\n",
    "print(\"\\nAveraging Z (200) :\")\n",
    "for i in tqdm(range(100)):\n",
    "    resultZ = basic_3d_averaging_parralel(np.asarray(resultZ), 10)"
   ]
  }
 ],
 "metadata": {
  "language_info": {
   "name": "python"
  },
  "orig_nbformat": 4
 },
 "nbformat": 4,
 "nbformat_minor": 2
}
