{
 "cells": [
  {
   "cell_type": "code",
   "execution_count": 1,
   "metadata": {},
   "outputs": [],
   "source": [
    "from averager import *\n",
    "from structures import *"
   ]
  },
  {
   "cell_type": "code",
   "execution_count": null,
   "metadata": {},
   "outputs": [],
   "source": [
    "# CONSTANTS\n",
    "\n",
    "COMMON_RADIUS = 3\n",
    "COMMON_PROCESSES = 16"
   ]
  },
  {
   "cell_type": "code",
   "execution_count": null,
   "metadata": {},
   "outputs": [],
   "source": [
    "file = open(\"myfile_3d.csv\", \"r\")\n",
    "print(\"OPENED!\")\n",
    "\n",
    "data = StreamData(file.read(), 501, 981, 81)"
   ]
  },
  {
   "cell_type": "code",
   "execution_count": null,
   "metadata": {},
   "outputs": [],
   "source": [
    "tmplistX = advance_to_column(data, \"X Velocity\")\n",
    "tmplistY = advance_to_column(data, \"Y Velocity\")\n",
    "tmplistZ = advance_to_column(data, \"Z Velocity\")"
   ]
  },
  {
   "cell_type": "code",
   "execution_count": null,
   "metadata": {},
   "outputs": [],
   "source": [
    "resultX = basic_3d_array_averaging_parallel(np.asarray(tmplistX), COMMON_RADIUS, max_processes=COMMON_PROCESSES, visuals=True)\n",
    "resultY = basic_3d_array_averaging_parallel(np.asarray(tmplistY), COMMON_RADIUS, max_processes=COMMON_PROCESSES, visuals=True)\n",
    "resultZ = basic_3d_array_averaging_parallel(np.asarray(tmplistZ), COMMON_RADIUS, max_processes=COMMON_PROCESSES, visuals=True)"
   ]
  },
  {
   "cell_type": "code",
   "execution_count": null,
   "metadata": {},
   "outputs": [],
   "source": [
    "# from usefull_graphics import *\n",
    "# graphicsX = []\n",
    "# graphicsY = []\n",
    "# graphicsZ = []\n",
    "# graphicsX.append(tmplistX)\n",
    "# graphicsY.append(tmplistY)\n",
    "# graphicsZ.append(tmplistZ)\n",
    "\n",
    "# # Set the size of the figure\n",
    "# figsize = (10, 10)\n",
    "\n",
    "# # Remove the axes from the subplots\n",
    "# show_axes = False\n",
    "\n",
    "# # Add a color bar to the subplots\n",
    "# show_colorbar = True\n",
    "\n",
    "# # Set the width ratio of each subplot\n",
    "# subplot_widths = [4]\n",
    "\n",
    "# # Set the font size for all text elements\n",
    "# font_size = 10\n",
    "\n",
    "# # Set normalization\n",
    "# normalize = [0, 4]\n",
    "\n",
    "# fig1 = plot_3d_in_row(graphicsX, figsize=figsize, show_colorbar=show_colorbar, font_size=font_size, normalize=normalize)\n",
    "# fig1.savefig('Vx field on different iterations.png', dpi=300, transparent=True)\n",
    "\n",
    "# fig2 = plot_3d_in_row(graphicsY, figsize=figsize, show_colorbar=show_colorbar, font_size=font_size, normalize=normalize)\n",
    "# fig2.savefig('Vy field on different iterations.png', dpi=300, transparent=True)\n",
    "\n",
    "# fig3 = plot_3d_in_row(graphicsZ, figsize=figsize, show_colorbar=show_colorbar, font_size=font_size, normalize=normalize)\n",
    "# fig3.savefig('Vz field on different iterations.png', dpi=300, transparent=True)"
   ]
  },
  {
   "attachments": {},
   "cell_type": "markdown",
   "metadata": {},
   "source": [
    "# 50 ITERS"
   ]
  },
  {
   "cell_type": "code",
   "execution_count": null,
   "metadata": {},
   "outputs": [],
   "source": [
    "print(\"Averaging X (50) :\")\n",
    "for i in tqdm(range(49)):\n",
    "    resultX = basic_3d_array_averaging_parallel(np.asarray(resultX), COMMON_RADIUS, max_processes=COMMON_PROCESSES)\n",
    "\n",
    "print(\"\\nAveraging Y (50) :\")\n",
    "for i in tqdm(range(49)):\n",
    "    resultY = basic_3d_array_averaging_parallel(np.asarray(resultY), COMMON_RADIUS, max_processes=COMMON_PROCESSES)\n",
    "\n",
    "print(\"\\nAveraging Z (50) :\")\n",
    "for i in tqdm(range(49)):\n",
    "    resultZ = basic_3d_array_averaging_parallel(np.asarray(resultZ), COMMON_RADIUS, max_processes=COMMON_PROCESSES)"
   ]
  },
  {
   "cell_type": "code",
   "execution_count": null,
   "metadata": {},
   "outputs": [],
   "source": [
    "update_dataset_column(data, 'X Velocity', resultX)\n",
    "update_dataset_column(data, 'Y Velocity', resultY)\n",
    "update_dataset_column(data, 'Z Velocity', resultZ)\n",
    "\n",
    "save_temp_streamdata(data, \"iter_50\")"
   ]
  },
  {
   "attachments": {},
   "cell_type": "markdown",
   "metadata": {},
   "source": [
    "# 100 ITERS"
   ]
  },
  {
   "cell_type": "code",
   "execution_count": null,
   "metadata": {},
   "outputs": [],
   "source": [
    "print(\"Averaging X (100) :\")\n",
    "for i in tqdm(range(50)):\n",
    "    resultX = basic_3d_array_averaging_parallel(np.asarray(resultX), COMMON_RADIUS, max_processes=COMMON_PROCESSES)\n",
    "\n",
    "print(\"\\nAveraging Y (100) :\")\n",
    "for i in tqdm(range(50)):\n",
    "    resultY = basic_3d_array_averaging_parallel(np.asarray(resultY), COMMON_RADIUS, max_processes=COMMON_PROCESSES)\n",
    "\n",
    "print(\"\\nAveraging Z (100) :\")\n",
    "for i in tqdm(range(50)):\n",
    "    resultZ = basic_3d_array_averaging_parallel(np.asarray(resultZ), COMMON_RADIUS, max_processes=COMMON_PROCESSES)"
   ]
  },
  {
   "cell_type": "code",
   "execution_count": null,
   "metadata": {},
   "outputs": [],
   "source": [
    "update_dataset_column(data, 'X Velocity', resultX)\n",
    "update_dataset_column(data, 'Y Velocity', resultY)\n",
    "update_dataset_column(data, 'Z Velocity', resultZ)\n",
    "\n",
    "save_temp_streamdata(data, \"iter_100\")"
   ]
  },
  {
   "attachments": {},
   "cell_type": "markdown",
   "metadata": {},
   "source": [
    "# 200 ITERS"
   ]
  },
  {
   "cell_type": "code",
   "execution_count": null,
   "metadata": {},
   "outputs": [],
   "source": [
    "print(\"Averaging X (200) :\")\n",
    "for i in tqdm(range(100)):\n",
    "    resultX = basic_3d_array_averaging_parallel(np.asarray(resultX), COMMON_RADIUS, max_processes=COMMON_PROCESSES)\n",
    "\n",
    "print(\"\\nAveraging Y (200) :\")\n",
    "for i in tqdm(range(100)):\n",
    "    resultY = basic_3d_array_averaging_parallel(np.asarray(resultY), COMMON_RADIUS, max_processes=COMMON_PROCESSES)\n",
    "\n",
    "print(\"\\nAveraging Z (200) :\")\n",
    "for i in tqdm(range(100)):\n",
    "    resultZ = basic_3d_array_averaging_parallel(np.asarray(resultZ), COMMON_RADIUS, max_processes=COMMON_PROCESSES)"
   ]
  },
  {
   "cell_type": "code",
   "execution_count": null,
   "metadata": {},
   "outputs": [],
   "source": [
    "update_dataset_column(data, 'X Velocity', resultX)\n",
    "update_dataset_column(data, 'Y Velocity', resultY)\n",
    "update_dataset_column(data, 'Z Velocity', resultZ)\n",
    "\n",
    "save_temp_streamdata(data, \"iter_200\")"
   ]
  }
 ],
 "metadata": {
  "kernelspec": {
   "display_name": "Python 3",
   "language": "python",
   "name": "python3"
  },
  "language_info": {
   "codemirror_mode": {
    "name": "ipython",
    "version": 3
   },
   "file_extension": ".py",
   "mimetype": "text/x-python",
   "name": "python",
   "nbconvert_exporter": "python",
   "pygments_lexer": "ipython3",
   "version": "3.11.2"
  },
  "orig_nbformat": 4,
  "vscode": {
   "interpreter": {
    "hash": "0bd5d640ed772f191f54e0a43326adf8f31ae7ec9e0077849befdb4f1f605c82"
   }
  }
 },
 "nbformat": 4,
 "nbformat_minor": 2
}
