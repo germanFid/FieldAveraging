{
 "cells": [
  {
   "cell_type": "code",
   "execution_count": 1,
   "metadata": {},
   "outputs": [],
   "source": [
    "from averager import *\n",
    "from structures import *"
   ]
  },
  {
   "cell_type": "code",
   "execution_count": null,
   "metadata": {},
   "outputs": [],
   "source": [
    "# CONSTANTS\n",
    "\n",
    "COMMON_RADIUS = 3\n",
    "COMMON_PROCESSES = 16"
   ]
  },
  {
   "cell_type": "code",
   "execution_count": null,
   "metadata": {},
   "outputs": [],
   "source": [
    "data = StreamData(\"myfile_3d.csv\", 501, 981, 81)\n",
    "print(\"OPENED!\")"
   ]
  },
  {
   "cell_type": "code",
   "execution_count": null,
   "metadata": {},
   "outputs": [],
   "source": [
    "tmplistX = advance_to_column(data, \"X Velocity\")\n",
    "tmplistY = advance_to_column(data, \"Y Velocity\")\n",
    "tmplistZ = advance_to_column(data, \"Z Velocity\")"
   ]
  },
  {
   "cell_type": "code",
   "execution_count": null,
   "metadata": {},
   "outputs": [],
   "source": [
    "resultX = basic_3d_array_averaging_parallel(np.asarray(tmplistX), COMMON_RADIUS, max_processes=COMMON_PROCESSES, visuals=True)\n",
    "resultY = basic_3d_array_averaging_parallel(np.asarray(tmplistY), COMMON_RADIUS, max_processes=COMMON_PROCESSES, visuals=True)\n",
    "resultZ = basic_3d_array_averaging_parallel(np.asarray(tmplistZ), COMMON_RADIUS, max_processes=COMMON_PROCESSES, visuals=True)"
   ]
  },
  {
   "attachments": {},
   "cell_type": "markdown",
   "metadata": {},
   "source": [
    "# 50 ITERS"
   ]
  },
  {
   "cell_type": "code",
   "execution_count": null,
   "metadata": {},
   "outputs": [],
   "source": [
    "print(\"Averaging X (50) :\")\n",
    "for i in tqdm(range(49)):\n",
    "    resultX = basic_3d_array_averaging_parallel(np.asarray(resultX), COMMON_RADIUS, max_processes=COMMON_PROCESSES)\n",
    "\n",
    "print(\"\\nAveraging Y (50) :\")\n",
    "for i in tqdm(range(49)):\n",
    "    resultY = basic_3d_array_averaging_parallel(np.asarray(resultY), COMMON_RADIUS, max_processes=COMMON_PROCESSES)\n",
    "\n",
    "print(\"\\nAveraging Z (50) :\")\n",
    "for i in tqdm(range(49)):\n",
    "    resultZ = basic_3d_array_averaging_parallel(np.asarray(resultZ), COMMON_RADIUS, max_processes=COMMON_PROCESSES)"
   ]
  },
  {
   "cell_type": "code",
   "execution_count": null,
   "metadata": {},
   "outputs": [],
   "source": [
    "update_dataset_column(data, 'X Velocity', resultX)\n",
    "update_dataset_column(data, 'Y Velocity', resultY)\n",
    "update_dataset_column(data, 'Z Velocity', resultZ)\n",
    "\n",
    "save_temp_streamdata(data, \"iter_50\")"
   ]
  },
  {
   "attachments": {},
   "cell_type": "markdown",
   "metadata": {},
   "source": [
    "# 100 ITERS"
   ]
  },
  {
   "cell_type": "code",
   "execution_count": null,
   "metadata": {},
   "outputs": [],
   "source": [
    "print(\"Averaging X (100) :\")\n",
    "for i in tqdm(range(50)):\n",
    "    resultX = basic_3d_array_averaging_parallel(np.asarray(resultX), COMMON_RADIUS, max_processes=COMMON_PROCESSES)\n",
    "\n",
    "print(\"\\nAveraging Y (100) :\")\n",
    "for i in tqdm(range(50)):\n",
    "    resultY = basic_3d_array_averaging_parallel(np.asarray(resultY), COMMON_RADIUS, max_processes=COMMON_PROCESSES)\n",
    "\n",
    "print(\"\\nAveraging Z (100) :\")\n",
    "for i in tqdm(range(50)):\n",
    "    resultZ = basic_3d_array_averaging_parallel(np.asarray(resultZ), COMMON_RADIUS, max_processes=COMMON_PROCESSES)"
   ]
  },
  {
   "cell_type": "code",
   "execution_count": null,
   "metadata": {},
   "outputs": [],
   "source": [
    "update_dataset_column(data, 'X Velocity', resultX)\n",
    "update_dataset_column(data, 'Y Velocity', resultY)\n",
    "update_dataset_column(data, 'Z Velocity', resultZ)\n",
    "\n",
    "save_temp_streamdata(data, \"iter_100\")"
   ]
  },
  {
   "attachments": {},
   "cell_type": "markdown",
   "metadata": {},
   "source": [
    "# 200 ITERS"
   ]
  },
  {
   "cell_type": "code",
   "execution_count": null,
   "metadata": {},
   "outputs": [],
   "source": [
    "print(\"Averaging X (200) :\")\n",
    "for i in tqdm(range(100)):\n",
    "    resultX = basic_3d_array_averaging_parallel(np.asarray(resultX), COMMON_RADIUS, max_processes=COMMON_PROCESSES)\n",
    "\n",
    "print(\"\\nAveraging Y (200) :\")\n",
    "for i in tqdm(range(100)):\n",
    "    resultY = basic_3d_array_averaging_parallel(np.asarray(resultY), COMMON_RADIUS, max_processes=COMMON_PROCESSES)\n",
    "\n",
    "print(\"\\nAveraging Z (200) :\")\n",
    "for i in tqdm(range(100)):\n",
    "    resultZ = basic_3d_array_averaging_parallel(np.asarray(resultZ), COMMON_RADIUS, max_processes=COMMON_PROCESSES)"
   ]
  },
  {
   "cell_type": "code",
   "execution_count": null,
   "metadata": {},
   "outputs": [],
   "source": [
    "update_dataset_column(data, 'X Velocity', resultX)\n",
    "update_dataset_column(data, 'Y Velocity', resultY)\n",
    "update_dataset_column(data, 'Z Velocity', resultZ)\n",
    "\n",
    "save_temp_streamdata(data, \"iter_200\")"
   ]
  }
 ],
 "metadata": {
  "kernelspec": {
   "display_name": "Python 3",
   "language": "python",
   "name": "python3"
  },
  "language_info": {
   "codemirror_mode": {
    "name": "ipython",
    "version": 3
   },
   "file_extension": ".py",
   "mimetype": "text/x-python",
   "name": "python",
   "nbconvert_exporter": "python",
   "pygments_lexer": "ipython3",
   "version": "3.11.2"
  },
  "orig_nbformat": 4,
  "vscode": {
   "interpreter": {
    "hash": "0bd5d640ed772f191f54e0a43326adf8f31ae7ec9e0077849befdb4f1f605c82"
   }
  }
 },
 "nbformat": 4,
 "nbformat_minor": 2
}
