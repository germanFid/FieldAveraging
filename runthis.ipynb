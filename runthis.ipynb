{
 "cells": [
  {
   "cell_type": "code",
   "execution_count": 4,
   "metadata": {},
   "outputs": [],
   "source": [
    "from averager import *\n",
    "from structures import *"
   ]
  },
  {
   "cell_type": "code",
   "execution_count": 5,
   "metadata": {},
   "outputs": [],
   "source": [
    "# CONSTANTS\n",
    "\n",
    "COMMON_RADIUS = 3\n",
    "COMMON_PROCESSES = 16"
   ]
  },
  {
   "cell_type": "code",
   "execution_count": 6,
   "metadata": {},
   "outputs": [
    {
     "name": "stdout",
     "output_type": "stream",
     "text": [
      "OPENED!\n"
     ]
    }
   ],
   "source": [
    "data = StreamData(\"myfile_3d.csv\", 501, 981, 81)\n",
    "print(\"OPENED!\")"
   ]
  },
  {
   "cell_type": "code",
   "execution_count": 7,
   "metadata": {},
   "outputs": [],
   "source": [
    "tmplistX = advance_to_column(data, \"X Velocity\")\n",
    "tmplistY = advance_to_column(data, \"Y Velocity\")\n",
    "tmplistZ = advance_to_column(data, \"Z Velocity\")"
   ]
  },
  {
   "cell_type": "code",
   "execution_count": 8,
   "metadata": {},
   "outputs": [
    {
     "name": "stderr",
     "output_type": "stream",
     "text": [
      " 25%|██▍       | 9925235/39809961 [01:30<00:06, 4384210.52it/s]"
     ]
    }
   ],
   "source": [
    "resultX = basic_3d_array_averaging_parallel(np.asarray(tmplistX), COMMON_RADIUS, max_processes=COMMON_PROCESSES, visuals=True)\n",
    "resultY = basic_3d_array_averaging_parallel(np.asarray(tmplistY), COMMON_RADIUS, max_processes=COMMON_PROCESSES, visuals=True)\n",
    "resultZ = basic_3d_array_averaging_parallel(np.asarray(tmplistZ), COMMON_RADIUS, max_processes=COMMON_PROCESSES, visuals=True)"
   ]
  },
  {
   "attachments": {},
   "cell_type": "markdown",
   "metadata": {},
   "source": [
    "# 50 ITERS"
   ]
  },
  {
   "cell_type": "code",
   "execution_count": 6,
   "metadata": {},
   "outputs": [
    {
     "name": "stdout",
     "output_type": "stream",
     "text": [
      "Averaging X (50) :\n"
     ]
    },
    {
     "name": "stderr",
     "output_type": "stream",
     "text": [
      "100%|██████████| 49/49 [1:10:01<00:00, 85.74s/it]\n"
     ]
    },
    {
     "name": "stdout",
     "output_type": "stream",
     "text": [
      "\n",
      "Averaging Y (50) :\n"
     ]
    },
    {
     "name": "stderr",
     "output_type": "stream",
     "text": [
      "100%|██████████| 49/49 [1:09:32<00:00, 85.15s/it]\n"
     ]
    },
    {
     "name": "stdout",
     "output_type": "stream",
     "text": [
      "\n",
      "Averaging Z (50) :\n"
     ]
    },
    {
     "name": "stderr",
     "output_type": "stream",
     "text": [
      "100%|██████████| 49/49 [1:09:46<00:00, 85.44s/it]\n"
     ]
    }
   ],
   "source": [
    "print(\"Averaging X (50) :\")\n",
    "for i in tqdm(range(49)):\n",
    "    resultX = basic_3d_array_averaging_parallel(np.asarray(resultX), COMMON_RADIUS, max_processes=COMMON_PROCESSES)\n",
    "\n",
    "print(\"\\nAveraging Y (50) :\")\n",
    "for i in tqdm(range(49)):\n",
    "    resultY = basic_3d_array_averaging_parallel(np.asarray(resultY), COMMON_RADIUS, max_processes=COMMON_PROCESSES)\n",
    "\n",
    "print(\"\\nAveraging Z (50) :\")\n",
    "for i in tqdm(range(49)):\n",
    "    resultZ = basic_3d_array_averaging_parallel(np.asarray(resultZ), COMMON_RADIUS, max_processes=COMMON_PROCESSES)"
   ]
  },
  {
   "cell_type": "code",
   "execution_count": 7,
   "metadata": {},
   "outputs": [],
   "source": [
    "update_dataset_column(data, 'X Velocity', resultX)\n",
    "update_dataset_column(data, 'Y Velocity', resultY)\n",
    "update_dataset_column(data, 'Z Velocity', resultZ)\n",
    "\n",
    "save_temp_streamdata(data, \"iter_50\")"
   ]
  },
  {
   "cell_type": "code",
   "execution_count": 3,
   "metadata": {},
   "outputs": [
    {
     "name": "stdout",
     "output_type": "stream",
     "text": [
      "OPENED!\n"
     ]
    }
   ],
   "source": [
    "data = StreamData(\"iter_50.out.csv\", 501, 981, 81)\n",
    "print(\"OPENED!\")\n",
    "resultX = advance_to_column(data, \"X Velocity\")\n",
    "resultY = advance_to_column(data, \"Y Velocity\")\n",
    "resultZ = advance_to_column(data, \"Z Velocity\")"
   ]
  },
  {
   "attachments": {},
   "cell_type": "markdown",
   "metadata": {},
   "source": [
    "# 100 ITERS"
   ]
  },
  {
   "cell_type": "code",
   "execution_count": 4,
   "metadata": {},
   "outputs": [
    {
     "name": "stdout",
     "output_type": "stream",
     "text": [
      "Averaging X (100) :\n"
     ]
    },
    {
     "name": "stderr",
     "output_type": "stream",
     "text": [
      "100%|██████████| 50/50 [1:15:37<00:00, 90.76s/it]\n"
     ]
    },
    {
     "name": "stdout",
     "output_type": "stream",
     "text": [
      "\n",
      "Averaging Y (100) :\n"
     ]
    },
    {
     "name": "stderr",
     "output_type": "stream",
     "text": [
      "100%|██████████| 50/50 [1:11:17<00:00, 85.55s/it]\n"
     ]
    },
    {
     "name": "stdout",
     "output_type": "stream",
     "text": [
      "\n",
      "Averaging Z (100) :\n"
     ]
    },
    {
     "name": "stderr",
     "output_type": "stream",
     "text": [
      "100%|██████████| 50/50 [1:11:39<00:00, 85.99s/it]\n"
     ]
    }
   ],
   "source": [
    "print(\"Averaging X (100) :\")\n",
    "for i in tqdm(range(50)):\n",
    "    resultX = basic_3d_array_averaging_parallel(np.asarray(resultX), COMMON_RADIUS, max_processes=COMMON_PROCESSES)\n",
    "\n",
    "print(\"\\nAveraging Y (100) :\")\n",
    "for i in tqdm(range(50)):\n",
    "    resultY = basic_3d_array_averaging_parallel(np.asarray(resultY), COMMON_RADIUS, max_processes=COMMON_PROCESSES)\n",
    "\n",
    "print(\"\\nAveraging Z (100) :\")\n",
    "for i in tqdm(range(50)):\n",
    "    resultZ = basic_3d_array_averaging_parallel(np.asarray(resultZ), COMMON_RADIUS, max_processes=COMMON_PROCESSES)"
   ]
  },
  {
   "cell_type": "code",
   "execution_count": 5,
   "metadata": {},
   "outputs": [],
   "source": [
    "update_dataset_column(data, 'X Velocity', resultX)\n",
    "update_dataset_column(data, 'Y Velocity', resultY)\n",
    "update_dataset_column(data, 'Z Velocity', resultZ)\n",
    "\n",
    "save_temp_streamdata(data, \"iter_100\")"
   ]
  },
  {
   "attachments": {},
   "cell_type": "markdown",
   "metadata": {},
   "source": [
    "# 200 ITERS"
   ]
  },
  {
   "cell_type": "code",
   "execution_count": 6,
   "metadata": {},
   "outputs": [
    {
     "name": "stdout",
     "output_type": "stream",
     "text": [
      "Averaging X (200) :\n"
     ]
    },
    {
     "name": "stderr",
     "output_type": "stream",
     "text": [
      "100%|██████████| 100/100 [2:22:16<00:00, 85.37s/it] \n"
     ]
    },
    {
     "name": "stdout",
     "output_type": "stream",
     "text": [
      "\n",
      "Averaging Y (200) :\n"
     ]
    },
    {
     "name": "stderr",
     "output_type": "stream",
     "text": [
      "100%|██████████| 100/100 [2:23:59<00:00, 86.39s/it] \n"
     ]
    },
    {
     "name": "stdout",
     "output_type": "stream",
     "text": [
      "\n",
      "Averaging Z (200) :\n"
     ]
    },
    {
     "name": "stderr",
     "output_type": "stream",
     "text": [
      "100%|██████████| 100/100 [2:24:48<00:00, 86.88s/it] \n"
     ]
    }
   ],
   "source": [
    "print(\"Averaging X (200) :\")\n",
    "for i in tqdm(range(100)):\n",
    "    resultX = basic_3d_array_averaging_parallel(np.asarray(resultX), COMMON_RADIUS, max_processes=COMMON_PROCESSES)\n",
    "\n",
    "print(\"\\nAveraging Y (200) :\")\n",
    "for i in tqdm(range(100)):\n",
    "    resultY = basic_3d_array_averaging_parallel(np.asarray(resultY), COMMON_RADIUS, max_processes=COMMON_PROCESSES)\n",
    "\n",
    "print(\"\\nAveraging Z (200) :\")\n",
    "for i in tqdm(range(100)):\n",
    "    resultZ = basic_3d_array_averaging_parallel(np.asarray(resultZ), COMMON_RADIUS, max_processes=COMMON_PROCESSES)"
   ]
  },
  {
   "cell_type": "code",
   "execution_count": 7,
   "metadata": {},
   "outputs": [],
   "source": [
    "update_dataset_column(data, 'X Velocity', resultX)\n",
    "update_dataset_column(data, 'Y Velocity', resultY)\n",
    "update_dataset_column(data, 'Z Velocity', resultZ)\n",
    "\n",
    "save_temp_streamdata(data, \"iter_200\")"
   ]
  }
 ],
 "metadata": {
  "kernelspec": {
   "display_name": "Python 3",
   "language": "python",
   "name": "python3"
  },
  "language_info": {
   "codemirror_mode": {
    "name": "ipython",
    "version": 3
   },
   "file_extension": ".py",
   "mimetype": "text/x-python",
   "name": "python",
   "nbconvert_exporter": "python",
   "pygments_lexer": "ipython3",
   "version": "3.11.3"
  },
  "orig_nbformat": 4,
  "vscode": {
   "interpreter": {
    "hash": "0bd5d640ed772f191f54e0a43326adf8f31ae7ec9e0077849befdb4f1f605c82"
   }
  }
 },
 "nbformat": 4,
 "nbformat_minor": 2
}
