{
 "cells": [
  {
   "cell_type": "code",
   "execution_count": 1,
   "metadata": {},
   "outputs": [],
   "source": [
    "from averager import *\n",
    "from structures import *"
   ]
  },
  {
   "cell_type": "code",
   "execution_count": 8,
   "metadata": {},
   "outputs": [],
   "source": [
    "# CONSTANTS\n",
    "\n",
    "COMMON_RADIUS = 6"
   ]
  },
  {
   "cell_type": "code",
   "execution_count": 9,
   "metadata": {},
   "outputs": [
    {
     "name": "stdout",
     "output_type": "stream",
     "text": [
      "OPENED!\n"
     ]
    }
   ],
   "source": [
    "file = open(\"myfile_3d.csv\", \"r\")\n",
    "print(\"OPENED!\")\n",
    "\n",
    "data = StreamData(file.read(), 501, 981, 81)"
   ]
  },
  {
   "cell_type": "code",
   "execution_count": null,
   "metadata": {},
   "outputs": [],
   "source": [
    "tmplistX = advance_to_column(data, \"X Velocity\")\n",
    "tmplistY = advance_to_column(data, \"Y Velocity\")\n",
    "tmplistZ = advance_to_column(data, \"Z Velocity\")"
   ]
  },
  {
   "cell_type": "code",
   "execution_count": null,
   "metadata": {},
   "outputs": [],
   "source": [
    "resultX = average_3d_by_gauss(np.asarray(tmplistX), COMMON_RADIUS)\n",
    "resultY = average_3d_by_gauss(np.asarray(tmplistY), COMMON_RADIUS)\n",
    "resultZ = average_3d_by_gauss(np.asarray(tmplistZ), COMMON_RADIUS)"
   ]
  },
  {
   "attachments": {},
   "cell_type": "markdown",
   "metadata": {},
   "source": [
    "# 3 ITERS"
   ]
  },
  {
   "cell_type": "code",
   "execution_count": null,
   "metadata": {},
   "outputs": [],
   "source": [
    "print(\"Averaging X (3) :\")\n",
    "for i in tqdm(range(3)):\n",
    "    resultX = average_3d_by_gauss(np.asarray(resultX), COMMON_RADIUS)\n",
    "\n",
    "print(\"\\nAveraging Y (3) :\")\n",
    "for i in tqdm(range(3)):\n",
    "    resultY = average_3d_by_gauss(np.asarray(resultY), COMMON_RADIUS)\n",
    "\n",
    "print(\"\\nAveraging Z (3) :\")\n",
    "for i in tqdm(range(3)):\n",
    "    resultZ = average_3d_by_gauss(np.asarray(resultZ), COMMON_RADIUS)"
   ]
  },
  {
   "cell_type": "code",
   "execution_count": null,
   "metadata": {},
   "outputs": [],
   "source": [
    "update_dataset_column(data, 'X Velocity', resultX)\n",
    "update_dataset_column(data, 'Y Velocity', resultY)\n",
    "update_dataset_column(data, 'Z Velocity', resultZ)\n",
    "\n",
    "save_temp_streamdata(data, \"gauss_iter_3\")"
   ]
  },
  {
   "attachments": {},
   "cell_type": "markdown",
   "metadata": {},
   "source": [
    "# 6 ITERS"
   ]
  },
  {
   "cell_type": "code",
   "execution_count": null,
   "metadata": {},
   "outputs": [],
   "source": [
    "print(\"Averaging X (6) :\")\n",
    "for i in tqdm(range(3)):\n",
    "    resultX = average_3d_by_gauss(np.asarray(resultX), COMMON_RADIUS)\n",
    "\n",
    "print(\"\\nAveraging Y (6) :\")\n",
    "for i in tqdm(range(3)):\n",
    "    resultY = average_3d_by_gauss(np.asarray(resultY), COMMON_RADIUS)\n",
    "\n",
    "print(\"\\nAveraging Z (6) :\")\n",
    "for i in tqdm(range(3)):\n",
    "    resultZ = average_3d_by_gauss(np.asarray(resultZ), COMMON_RADIUS)"
   ]
  },
  {
   "cell_type": "code",
   "execution_count": null,
   "metadata": {},
   "outputs": [],
   "source": [
    "update_dataset_column(data, 'X Velocity', resultX)\n",
    "update_dataset_column(data, 'Y Velocity', resultY)\n",
    "update_dataset_column(data, 'Z Velocity', resultZ)\n",
    "\n",
    "save_temp_streamdata(data, \"gauss_iter_6\")"
   ]
  },
  {
   "attachments": {},
   "cell_type": "markdown",
   "metadata": {},
   "source": [
    "# 10 ITERS"
   ]
  },
  {
   "cell_type": "code",
   "execution_count": null,
   "metadata": {},
   "outputs": [],
   "source": [
    "print(\"Averaging X (10) :\")\n",
    "for i in tqdm(range(10)):\n",
    "    resultX = average_3d_by_gauss(np.asarray(resultX), COMMON_RADIUS)\n",
    "\n",
    "print(\"\\nAveraging Y (10) :\")\n",
    "for i in tqdm(range(10)):\n",
    "    resultY = average_3d_by_gauss(np.asarray(resultY), COMMON_RADIUS)\n",
    "\n",
    "print(\"\\nAveraging Z (10) :\")\n",
    "for i in tqdm(range(10)):\n",
    "    resultZ = average_3d_by_gauss(np.asarray(resultZ), COMMON_RADIUS)"
   ]
  },
  {
   "cell_type": "code",
   "execution_count": null,
   "metadata": {},
   "outputs": [],
   "source": [
    "update_dataset_column(data, 'X Velocity', resultX)\n",
    "update_dataset_column(data, 'Y Velocity', resultY)\n",
    "update_dataset_column(data, 'Z Velocity', resultZ)\n",
    "\n",
    "save_temp_streamdata(data, \"gauss_iter_10\")"
   ]
  }
 ],
 "metadata": {
  "kernelspec": {
   "display_name": "Python 3",
   "language": "python",
   "name": "python3"
  },
  "language_info": {
   "codemirror_mode": {
    "name": "ipython",
    "version": 3
   },
   "file_extension": ".py",
   "mimetype": "text/x-python",
   "name": "python",
   "nbconvert_exporter": "python",
   "pygments_lexer": "ipython3",
   "version": "3.11.2"
  },
  "orig_nbformat": 4,
  "vscode": {
   "interpreter": {
    "hash": "0bd5d640ed772f191f54e0a43326adf8f31ae7ec9e0077849befdb4f1f605c82"
   }
  }
 },
 "nbformat": 4,
 "nbformat_minor": 2
}
