{
 "cells": [
  {
   "cell_type": "code",
   "execution_count": 1,
   "metadata": {},
   "outputs": [],
   "source": [
    "from averager import *\n",
    "from structures import *"
   ]
  },
  {
   "cell_type": "code",
   "execution_count": 2,
   "metadata": {},
   "outputs": [],
   "source": [
    "# CONSTANTS\n",
    "\n",
    "COMMON_RADIUS = 3"
   ]
  },
  {
   "cell_type": "code",
   "execution_count": 3,
   "metadata": {},
   "outputs": [],
   "source": [
    "data = StreamData(\"myfile_3d.csv\", 501, 981, 81)"
   ]
  },
  {
   "cell_type": "code",
   "execution_count": 4,
   "metadata": {},
   "outputs": [
    {
     "name": "stdout",
     "output_type": "stream",
     "text": [
      "               X     Y     Z  X Velocity  Y Velocity  Z Velocity  Unnamed: 6\n",
      "0        -0.1250  0.00 -0.02    0.000230    0.019712    0.000259         NaN\n",
      "1        -0.1245  0.00 -0.02    0.000457    0.042616    0.000453         NaN\n",
      "2        -0.1240  0.00 -0.02    0.000765    0.050775    0.000502         NaN\n",
      "3        -0.1235  0.00 -0.02    0.000923    0.052143    0.000540         NaN\n",
      "4        -0.1230  0.00 -0.02    0.000969    0.052008    0.000576         NaN\n",
      "...          ...   ...   ...         ...         ...         ...         ...\n",
      "39809956  0.1230  0.49  0.02   -0.001868   -0.035454    0.000120         NaN\n",
      "39809957  0.1235  0.49  0.02   -0.001333   -0.032595    0.000101         NaN\n",
      "39809958  0.1240  0.49  0.02   -0.000645   -0.027828    0.000063         NaN\n",
      "39809959  0.1245  0.49  0.02   -0.000150   -0.020205   -0.000008         NaN\n",
      "39809960  0.1250  0.49  0.02    0.000000    0.000000    0.000000         NaN\n",
      "\n",
      "[39809961 rows x 7 columns]\n"
     ]
    }
   ],
   "source": [
    "print(data.dataset)"
   ]
  },
  {
   "cell_type": "code",
   "execution_count": 5,
   "metadata": {},
   "outputs": [],
   "source": [
    "tmplistX = advance_to_column(data, \"X Velocity\")\n",
    "tmplistY = advance_to_column(data, \"Y Velocity\")\n",
    "tmplistZ = advance_to_column(data, \"Z Velocity\")"
   ]
  },
  {
   "attachments": {},
   "cell_type": "markdown",
   "metadata": {},
   "source": [
    "# 1 ITERS"
   ]
  },
  {
   "cell_type": "code",
   "execution_count": 6,
   "metadata": {},
   "outputs": [
    {
     "ename": "KeyboardInterrupt",
     "evalue": "",
     "output_type": "error",
     "traceback": [
      "\u001b[1;31m---------------------------------------------------------------------------\u001b[0m",
      "\u001b[1;31mKeyboardInterrupt\u001b[0m                         Traceback (most recent call last)",
      "Cell \u001b[1;32mIn[6], line 1\u001b[0m\n\u001b[1;32m----> 1\u001b[0m resultX \u001b[39m=\u001b[39m average_3d_by_gauss(np\u001b[39m.\u001b[39;49masarray(tmplistX), COMMON_RADIUS)\n\u001b[0;32m      2\u001b[0m resultY \u001b[39m=\u001b[39m average_3d_by_gauss(np\u001b[39m.\u001b[39masarray(tmplistY), COMMON_RADIUS)\n\u001b[0;32m      3\u001b[0m resultZ \u001b[39m=\u001b[39m average_3d_by_gauss(np\u001b[39m.\u001b[39masarray(tmplistZ), COMMON_RADIUS)\n",
      "File \u001b[1;32mc:\\all_git_folders\\FieldAveraging\\averager.py:378\u001b[0m, in \u001b[0;36maverage_3d_by_gauss\u001b[1;34m(in_field, sigma)\u001b[0m\n\u001b[0;32m    375\u001b[0m \u001b[39mfor\u001b[39;00m z \u001b[39min\u001b[39;00m \u001b[39mrange\u001b[39m(depth):\n\u001b[0;32m    377\u001b[0m     \u001b[39mfor\u001b[39;00m y \u001b[39min\u001b[39;00m \u001b[39mrange\u001b[39m(height):\n\u001b[1;32m--> 378\u001b[0m         average_horizontal_gauss_3d(copied_field, window, window_sum,\n\u001b[0;32m    379\u001b[0m                                     window_size, width, y, z)\n\u001b[0;32m    381\u001b[0m     \u001b[39mfor\u001b[39;00m x \u001b[39min\u001b[39;00m \u001b[39mrange\u001b[39m(width):\n\u001b[0;32m    382\u001b[0m         average_vertical_gauss_3d(copied_field, window, window_sum,\n\u001b[0;32m    383\u001b[0m                                   window_size, height, x, z)\n",
      "File \u001b[1;32mc:\\all_git_folders\\FieldAveraging\\averager.py:263\u001b[0m, in \u001b[0;36maverage_horizontal_gauss_3d\u001b[1;34m(copied_field, window, window_sum, window_size, width, y, z)\u001b[0m\n\u001b[0;32m    260\u001b[0m         \u001b[39mif\u001b[39;00m (temp_index \u001b[39m<\u001b[39m width):\n\u001b[0;32m    261\u001b[0m             temp_elem \u001b[39m+\u001b[39m\u001b[39m=\u001b[39m copied_field[z][y][temp_index] \u001b[39m*\u001b[39m \\\n\u001b[0;32m    262\u001b[0m                 window[window_index]\n\u001b[1;32m--> 263\u001b[0m         temp_index \u001b[39m+\u001b[39m\u001b[39m=\u001b[39m \u001b[39m1\u001b[39m\n\u001b[0;32m    265\u001b[0m     temp_horizontal[x] \u001b[39m=\u001b[39m temp_elem \u001b[39m/\u001b[39m window_sum\n\u001b[0;32m    267\u001b[0m \u001b[39mfor\u001b[39;00m i \u001b[39min\u001b[39;00m \u001b[39mrange\u001b[39m(width):\n",
      "\u001b[1;31mKeyboardInterrupt\u001b[0m: "
     ]
    }
   ],
   "source": [
    "resultX = average_3d_by_gauss(np.asarray(tmplistX), COMMON_RADIUS)\n",
    "resultY = average_3d_by_gauss(np.asarray(tmplistY), COMMON_RADIUS)\n",
    "resultZ = average_3d_by_gauss(np.asarray(tmplistZ), COMMON_RADIUS)"
   ]
  },
  {
   "cell_type": "code",
   "execution_count": null,
   "metadata": {},
   "outputs": [],
   "source": [
    "update_dataset_column(data, 'X Velocity', resultX)\n",
    "update_dataset_column(data, 'Y Velocity', resultY)\n",
    "update_dataset_column(data, 'Z Velocity', resultZ)\n",
    "\n",
    "save_temp_streamdata(data, \"gauss_iter_1\")"
   ]
  },
  {
   "attachments": {},
   "cell_type": "markdown",
   "metadata": {},
   "source": [
    "# 3 ITERS"
   ]
  },
  {
   "cell_type": "code",
   "execution_count": null,
   "metadata": {},
   "outputs": [
    {
     "name": "stdout",
     "output_type": "stream",
     "text": [
      "Averaging X (3) :\n"
     ]
    },
    {
     "name": "stderr",
     "output_type": "stream",
     "text": [
      "100%|██████████| 2/2 [1:14:41<00:00, 2240.89s/it]\n"
     ]
    },
    {
     "name": "stdout",
     "output_type": "stream",
     "text": [
      "\n",
      "Averaging Y (3) :\n"
     ]
    },
    {
     "name": "stderr",
     "output_type": "stream",
     "text": [
      "100%|██████████| 2/2 [1:11:23<00:00, 2141.91s/it]\n"
     ]
    },
    {
     "name": "stdout",
     "output_type": "stream",
     "text": [
      "\n",
      "Averaging Z (3) :\n"
     ]
    },
    {
     "name": "stderr",
     "output_type": "stream",
     "text": [
      "100%|██████████| 2/2 [1:11:21<00:00, 2140.96s/it]\n"
     ]
    }
   ],
   "source": [
    "print(\"Averaging X (3) :\")\n",
    "for i in tqdm(range(2)):\n",
    "    resultX = average_3d_by_gauss(np.asarray(resultX), COMMON_RADIUS)\n",
    "\n",
    "print(\"\\nAveraging Y (3) :\")\n",
    "for i in tqdm(range(2)):\n",
    "    resultY = average_3d_by_gauss(np.asarray(resultY), COMMON_RADIUS)\n",
    "\n",
    "print(\"\\nAveraging Z (3) :\")\n",
    "for i in tqdm(range(2)):\n",
    "    resultZ = average_3d_by_gauss(np.asarray(resultZ), COMMON_RADIUS)"
   ]
  },
  {
   "cell_type": "code",
   "execution_count": null,
   "metadata": {},
   "outputs": [],
   "source": [
    "update_dataset_column(data, 'X Velocity', resultX)\n",
    "update_dataset_column(data, 'Y Velocity', resultY)\n",
    "update_dataset_column(data, 'Z Velocity', resultZ)\n",
    "\n",
    "save_temp_streamdata(data, \"gauss_iter_3\")"
   ]
  },
  {
   "cell_type": "code",
   "execution_count": null,
   "metadata": {},
   "outputs": [
    {
     "name": "stdout",
     "output_type": "stream",
     "text": [
      "OPENED!\n"
     ]
    }
   ],
   "source": [
    "data = StreamData(\"gauss_iter_3.out.csv\", 501, 981, 81)\n",
    "print(\"OPENED!\")\n",
    "resultX = advance_to_column(data, \"X Velocity\")\n",
    "resultY = advance_to_column(data, \"Y Velocity\")\n",
    "resultZ = advance_to_column(data, \"Z Velocity\")"
   ]
  },
  {
   "attachments": {},
   "cell_type": "markdown",
   "metadata": {},
   "source": [
    "# 6 ITERS"
   ]
  },
  {
   "cell_type": "code",
   "execution_count": null,
   "metadata": {},
   "outputs": [
    {
     "name": "stdout",
     "output_type": "stream",
     "text": [
      "Averaging X (6) :\n"
     ]
    },
    {
     "name": "stderr",
     "output_type": "stream",
     "text": [
      "100%|██████████| 3/3 [1:46:44<00:00, 2134.91s/it]\n"
     ]
    },
    {
     "name": "stdout",
     "output_type": "stream",
     "text": [
      "\n",
      "Averaging Y (6) :\n"
     ]
    },
    {
     "name": "stderr",
     "output_type": "stream",
     "text": [
      "100%|██████████| 3/3 [1:46:27<00:00, 2129.22s/it]\n"
     ]
    },
    {
     "name": "stdout",
     "output_type": "stream",
     "text": [
      "\n",
      "Averaging Z (6) :\n"
     ]
    },
    {
     "name": "stderr",
     "output_type": "stream",
     "text": [
      "100%|██████████| 3/3 [1:46:35<00:00, 2131.90s/it]\n"
     ]
    }
   ],
   "source": [
    "print(\"Averaging X (6) :\")\n",
    "for i in tqdm(range(3)):\n",
    "    resultX = average_3d_by_gauss(np.asarray(resultX), COMMON_RADIUS)\n",
    "\n",
    "print(\"\\nAveraging Y (6) :\")\n",
    "for i in tqdm(range(3)):\n",
    "    resultY = average_3d_by_gauss(np.asarray(resultY), COMMON_RADIUS)\n",
    "\n",
    "print(\"\\nAveraging Z (6) :\")\n",
    "for i in tqdm(range(3)):\n",
    "    resultZ = average_3d_by_gauss(np.asarray(resultZ), COMMON_RADIUS)"
   ]
  },
  {
   "cell_type": "code",
   "execution_count": null,
   "metadata": {},
   "outputs": [],
   "source": [
    "update_dataset_column(data, 'X Velocity', resultX)\n",
    "update_dataset_column(data, 'Y Velocity', resultY)\n",
    "update_dataset_column(data, 'Z Velocity', resultZ)\n",
    "\n",
    "save_temp_streamdata(data, \"gauss_iter_6\")"
   ]
  },
  {
   "cell_type": "code",
   "execution_count": null,
   "metadata": {},
   "outputs": [
    {
     "name": "stdout",
     "output_type": "stream",
     "text": [
      "OPENED!\n"
     ]
    }
   ],
   "source": [
    "data = StreamData(\"gauss_iter_6.out.csv\", 501, 981, 81)\n",
    "print(\"OPENED!\")\n",
    "resultX = advance_to_column(data, \"X Velocity\")\n",
    "resultY = advance_to_column(data, \"Y Velocity\")\n",
    "resultZ = advance_to_column(data, \"Z Velocity\")"
   ]
  },
  {
   "attachments": {},
   "cell_type": "markdown",
   "metadata": {},
   "source": [
    "# 10 ITERS"
   ]
  },
  {
   "cell_type": "code",
   "execution_count": null,
   "metadata": {},
   "outputs": [
    {
     "name": "stdout",
     "output_type": "stream",
     "text": [
      "Averaging X (10) :\n"
     ]
    },
    {
     "name": "stderr",
     "output_type": "stream",
     "text": [
      "100%|██████████| 4/4 [2:24:47<00:00, 2171.78s/it]  \n"
     ]
    },
    {
     "name": "stdout",
     "output_type": "stream",
     "text": [
      "\n",
      "Averaging Y (10) :\n"
     ]
    },
    {
     "name": "stderr",
     "output_type": "stream",
     "text": [
      "100%|██████████| 4/4 [2:33:20<00:00, 2300.09s/it]  \n"
     ]
    },
    {
     "name": "stdout",
     "output_type": "stream",
     "text": [
      "\n",
      "Averaging Z (10) :\n"
     ]
    },
    {
     "name": "stderr",
     "output_type": "stream",
     "text": [
      "100%|██████████| 4/4 [2:27:06<00:00, 2206.56s/it]  \n"
     ]
    }
   ],
   "source": [
    "print(\"Averaging X (10) :\")\n",
    "for i in tqdm(range(4)):\n",
    "    resultX = average_3d_by_gauss(np.asarray(resultX), COMMON_RADIUS)\n",
    "\n",
    "print(\"\\nAveraging Y (10) :\")\n",
    "for i in tqdm(range(4)):\n",
    "    resultY = average_3d_by_gauss(np.asarray(resultY), COMMON_RADIUS)\n",
    "\n",
    "print(\"\\nAveraging Z (10) :\")\n",
    "for i in tqdm(range(4)):\n",
    "    resultZ = average_3d_by_gauss(np.asarray(resultZ), COMMON_RADIUS)"
   ]
  },
  {
   "cell_type": "code",
   "execution_count": null,
   "metadata": {},
   "outputs": [],
   "source": [
    "update_dataset_column(data, 'X Velocity', resultX)\n",
    "update_dataset_column(data, 'Y Velocity', resultY)\n",
    "update_dataset_column(data, 'Z Velocity', resultZ)\n",
    "\n",
    "save_temp_streamdata(data, \"gauss_iter_10\")"
   ]
  }
 ],
 "metadata": {
  "kernelspec": {
   "display_name": "Python 3",
   "language": "python",
   "name": "python3"
  },
  "language_info": {
   "codemirror_mode": {
    "name": "ipython",
    "version": 3
   },
   "file_extension": ".py",
   "mimetype": "text/x-python",
   "name": "python",
   "nbconvert_exporter": "python",
   "pygments_lexer": "ipython3",
   "version": "3.11.3"
  },
  "orig_nbformat": 4,
  "vscode": {
   "interpreter": {
    "hash": "0bd5d640ed772f191f54e0a43326adf8f31ae7ec9e0077849befdb4f1f605c82"
   }
  }
 },
 "nbformat": 4,
 "nbformat_minor": 2
}
